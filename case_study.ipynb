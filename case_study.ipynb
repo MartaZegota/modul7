{
 "cells": [
  {
   "cell_type": "markdown",
   "id": "b7b139dd",
   "metadata": {},
   "source": [
    "Zadanie: Zamierzasz kupić mieszkanie. Upatrzone M kosztuje w tym momencie 120 tys. zł, jednak przewidujesz, że przez następne 5 lat ceny mieszkań będą rosły w tempie 5% rocznie. W tym momencie nie dysponujesz wystarczającymi środkami, dlatego znajdujesz ofertę banku, który proponuje lokatę, do której dopłacasz pewna stałą kwotę na koniec każdego miesiąca. Bank oferuje nominalną stopę procentową w wysokości 12% w skali roku, przy kapitalizacji miesięcznej."
   ]
  },
  {
   "cell_type": "markdown",
   "id": "9de9d091",
   "metadata": {},
   "source": [
    "1. Ile będzie wynosiła orientacyjna cena mieszkania za 5 lat?"
   ]
  },
  {
   "cell_type": "code",
   "execution_count": 1,
   "id": "cee4805f",
   "metadata": {},
   "outputs": [],
   "source": [
    "import numpy as np\n",
    "interest_rate = 0.05\n",
    "n_periods = 5\n",
    "payment_per_month = 0\n",
    "present_value = 120000"
   ]
  },
  {
   "cell_type": "code",
   "execution_count": 8,
   "id": "0b0b0815",
   "metadata": {},
   "outputs": [
    {
     "data": {
      "text/plain": [
       "218003.6"
      ]
     },
     "execution_count": 8,
     "metadata": {},
     "output_type": "execute_result"
    }
   ],
   "source": [
    "import numpy_financial as npf\n",
    "future_value = - np.around(npf.fv(interest_rate, n_periods, payment_per_month, present_value),2)\n",
    "future_value"
   ]
  },
  {
   "cell_type": "markdown",
   "id": "aadc3020",
   "metadata": {},
   "source": [
    "Odp. Orinetacyjna cena mieszkania za 5 lat wyniesie 153 153,79 zł"
   ]
  },
  {
   "cell_type": "markdown",
   "id": "c71d439a",
   "metadata": {},
   "source": [
    "2. Ile musisz wpłacać do banku każdego miesiąca, aby przy przedstawionej ofercie uzbierać na mieszkanie w ciągu 5 lat?"
   ]
  },
  {
   "cell_type": "code",
   "execution_count": 3,
   "id": "74a9e0c2",
   "metadata": {},
   "outputs": [],
   "source": [
    "import numpy as np\n",
    "interest_rate=0.12/12\n",
    "principal=153153.79\n",
    "n_periods = 5*12\n",
    "\n",
    "periods=np.arange(5*12) + 1"
   ]
  },
  {
   "cell_type": "code",
   "execution_count": 9,
   "id": "b584d2c1",
   "metadata": {},
   "outputs": [
    {
     "data": {
      "text/plain": [
       "1875.28"
      ]
     },
     "execution_count": 9,
     "metadata": {},
     "output_type": "execute_result"
    }
   ],
   "source": [
    "import numpy_financial as npf\n",
    "principal_per_month = - np.around(npf.ppmt(interest_rate, periods, n_periods, principal),2)\n",
    "principal_per_month[0]"
   ]
  },
  {
   "cell_type": "markdown",
   "id": "aa4f06c5",
   "metadata": {},
   "source": [
    "Odp. Każdego miesiąca należy wpłacać do banku 1875,28 zł"
   ]
  },
  {
   "cell_type": "markdown",
   "id": "632bd148",
   "metadata": {},
   "source": [
    "3. Wykres przedstawiający, jak w interwałach miesięcznych zmieniać się będzie cena mieszkania oraz wartość lokaty"
   ]
  },
  {
   "cell_type": "code",
   "execution_count": 6,
   "id": "1f315de0",
   "metadata": {},
   "outputs": [
    {
     "data": {
      "text/plain": [
       "Text(0, 0.5, 'Wartość')"
      ]
     },
     "execution_count": 6,
     "metadata": {},
     "output_type": "execute_result"
    },
    {
     "data": {
      "image/png": "[encoded data removed]",
      "text/plain": [
       "<Figure size 432x288 with 1 Axes>"
      ]
     },
     "metadata": {
      "needs_background": "light"
     },
     "output_type": "display_data"
    }
   ],
   "source": [
    "import matplotlib.pyplot as plt\n",
    "\n",
    "plt.plot(principal_per_month.cumsum(),label='wartość lokaty')\n",
    "plt.plot(future_value.cumsum(),label='wzrost ceny mieszkania')\n",
    "\n",
    "plt.legend()\n",
    "plt.xlabel('Liczba okresów')\n",
    "plt.ylabel('Wartość')"
   ]
  },
  {
   "cell_type": "code",
   "execution_count": null,
   "id": "4bbba51e",
   "metadata": {},
   "outputs": [],
   "source": []
  }
 ],
 "metadata": {
  "kernelspec": {
   "display_name": "Python 3 (ipykernel)",
   "language": "python",
   "name": "python3"
  },
  "language_info": {
   "codemirror_mode": {
    "name": "ipython",
    "version": 3
   },
   "file_extension": ".py",
   "mimetype": "text/x-python",
   "name": "python",
   "nbconvert_exporter": "python",
   "pygments_lexer": "ipython3",
   "version": "3.10.4"
  }
 },
 "nbformat": 4,
 "nbformat_minor": 5
}
